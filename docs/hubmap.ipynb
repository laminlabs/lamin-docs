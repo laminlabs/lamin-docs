{
 "cells": [
  {
   "cell_type": "markdown",
   "metadata": {},
   "source": [
    "# Hubmap: scRNA-seq"
   ]
  },
  {
   "cell_type": "markdown",
   "metadata": {},
   "source": [
    "The [HubMAP (Human BioMolecular Atlas Program) consortium](https://hubmapconsortium.org/) is an initiative mapping human cells to create a comprehensive atlas, with its [Data Portal](https://portal.hubmapconsortium.org/) serving as the platform where researchers can access, visualize, and download (single-cell) tissue data.\n",
    "\n",
    "Lamin mirrors most of the datasets for simplified access here: [laminlabs/hubmap](https://lamin.ai/laminlabs/hubmap).\n",
    "\n",
    "If you use the data academically, please cite the original publication [Jain et al. 2023](https://www.nature.com/articles/s41556-023-01194-w).\n",
    "\n",
    "Here, we show how the HubMAP instance is structured and how datasets and be queried and accessed."
   ]
  },
  {
   "cell_type": "markdown",
   "metadata": {},
   "source": [
    "Connect to the source instance:"
   ]
  },
  {
   "cell_type": "code",
   "execution_count": null,
   "metadata": {
    "tags": [
     "hide-output"
    ]
   },
   "outputs": [],
   "source": [
    "# pip install 'lamindb[jupyter,bionty,wetlab]'\n",
    "!lamin connect laminlabs/hubmap"
   ]
  },
  {
   "cell_type": "markdown",
   "metadata": {},
   "source": [
    "```{note}\n",
    "\n",
    "If you want to transfer artifacts or metadata into your own instance, use `.using(\"laminlabs/hubmap\")` when accessing registries and then `.save()` ({doc}`/transfer`).\n",
    "\n",
    "```"
   ]
  },
  {
   "cell_type": "code",
   "execution_count": null,
   "metadata": {
    "tags": [
     "hide-output"
    ]
   },
   "outputs": [],
   "source": [
    "import lamindb as ln"
   ]
  },
  {
   "cell_type": "markdown",
   "metadata": {},
   "source": [
    "## Getting HubMAP datasets and data products"
   ]
  },
  {
   "cell_type": "markdown",
   "metadata": {},
   "source": [
    "HubMAP associates several data products, which are the single raw datasets, into higher level datasets.\n",
    "For example, the dataset [HBM983.LKMP.544](https://portal.hubmapconsortium.org/browse/dataset/20ee458e5ee361717b68ca72caf6044e) has three data products:\n",
    "\n",
    "1. [raw_expr.h5ad](https://assets.hubmapconsortium.org/f6eb890063d13698feb11d39fa61e45a/raw_expr.h5ad)\n",
    "1. [expr.h5ad](https://assets.hubmapconsortium.org/f6eb890063d13698feb11d39fa61e45a/expr.h5ad)\n",
    "2. [secondary_analysis.h5ad](https://assets.hubmapconsortium.org/f6eb890063d13698feb11d39fa61e45a/secondary_analysis.h5ad)\n",
    "3. [scvelo_annotated.h5ad](https://assets.hubmapconsortium.org/f6eb890063d13698feb11d39fa61e45a/scvelo_annotated.h5ad)\n",
    "\n",
    "The [laminlabs/hubmap](https://lamin.ai/laminlabs/hubmap) instance registers these data products as {class}`~lamindb.Artifact` that jointly form a {class}`~lamindb.Collection`."
   ]
  },
  {
   "cell_type": "markdown",
   "metadata": {},
   "source": [
    "The `key` attribute of `ln.Artifact` and `ln.Collection` corresponds to the IDs of the URLs.\n",
    "For example, the id in the URL [https://portal.hubmapconsortium.org/browse/dataset/20ee458e5ee361717b68ca72caf6044e](https://portal.hubmapconsortium.org/browse/dataset/20ee458e5ee361717b68ca72caf6044e) is the `key` of the corresponding collection:"
   ]
  },
  {
   "cell_type": "code",
   "execution_count": null,
   "metadata": {
    "tags": [
     "hide-output"
    ]
   },
   "outputs": [],
   "source": [
    "small_intenstine_collection = ln.Collection.get(key=\"20ee458e5ee361717b68ca72caf6044e\")\n",
    "small_intenstine_collection"
   ]
  },
  {
   "cell_type": "markdown",
   "metadata": {},
   "source": [
    "We can get all associated data products like:"
   ]
  },
  {
   "cell_type": "code",
   "execution_count": null,
   "metadata": {
    "tags": [
     "hide-output"
    ]
   },
   "outputs": [],
   "source": [
    "small_intenstine_collection.artifacts.all().df()"
   ]
  },
  {
   "cell_type": "markdown",
   "metadata": {},
   "source": [
    "Note the key of these three `Artifacts` which corresponds to the assets URL.\n",
    "For example, [https://assets.hubmapconsortium.org/f6eb890063d13698feb11d39fa61e45a/expr.h5ad](https://assets.hubmapconsortium.org/f6eb890063d13698feb11d39fa61e45a/expr.h5ad) is the direct URL to the `expr.h5ad` data product.\n",
    "\n",
    "Artifacts can be directly loaded:"
   ]
  },
  {
   "cell_type": "code",
   "execution_count": null,
   "metadata": {
    "tags": [
     "hide-output"
    ]
   },
   "outputs": [],
   "source": [
    "small_intenstine_af = (\n",
    "    small_intenstine_collection.artifacts.filter(key__icontains=\"raw_expr.h5ad\")\n",
    "    .distinct()\n",
    "    .one()\n",
    ")\n",
    "adata = small_intenstine_af.load()\n",
    "adata"
   ]
  },
  {
   "cell_type": "markdown",
   "metadata": {},
   "source": [
    "## Querying single-cell datasets"
   ]
  },
  {
   "cell_type": "markdown",
   "metadata": {},
   "source": [
    "Currently, only the `Artifacts` of the `raw_expr.h5ad` data products are labeled with metadata.\n",
    "The available metadata includes `ln.Reference`, `bt.Tissue`, `bt.Disease`, `bt.ExperimentalFactor`, and many more.\n",
    "Please have a look at [the instance](https://lamin.ai/laminlabs/hubmap) for more details."
   ]
  },
  {
   "cell_type": "code",
   "execution_count": null,
   "metadata": {
    "tags": [
     "hide-output"
    ]
   },
   "outputs": [],
   "source": [
    "# Get one dataset with a specific type of heart failure\n",
    "heart_failure_adata = (\n",
    "    ln.Artifact.filter(diseases__name=\"heart failure with reduced ejection fraction\")\n",
    "    .first()\n",
    "    .load()\n",
    ")\n",
    "heart_failure_adata"
   ]
  }
 ],
 "metadata": {
  "kernelspec": {
   "display_name": "lamindb",
   "language": "python",
   "name": "python3"
  },
  "language_info": {
   "codemirror_mode": {
    "name": "ipython",
    "version": 3
   },
   "file_extension": ".py",
   "mimetype": "text/x-python",
   "name": "python",
   "nbconvert_exporter": "python",
   "pygments_lexer": "ipython3",
   "version": "3.12.8"
  }
 },
 "nbformat": 4,
 "nbformat_minor": 2
}
