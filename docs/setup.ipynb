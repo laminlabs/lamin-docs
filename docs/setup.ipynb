{
 "cells": [
  {
   "cell_type": "markdown",
   "metadata": {},
   "source": [
    "# Install & setup"
   ]
  },
  {
   "cell_type": "markdown",
   "metadata": {},
   "source": [
    "## Installation\n",
    "\n",
    "```{include} includes/installation.md\n",
    "\n",
    "```"
   ]
  },
  {
   "cell_type": "markdown",
   "metadata": {},
   "source": [
    "## Sign up & log in"
   ]
  },
  {
   "cell_type": "markdown",
   "metadata": {},
   "source": [
    "```{include} signup-login.md\n",
    "\n",
    "```"
   ]
  },
  {
   "cell_type": "markdown",
   "metadata": {},
   "source": [
    "## Init an instance"
   ]
  },
  {
   "cell_type": "markdown",
   "metadata": {},
   "source": [
    "Initialize an instance using `lamin init` on the commmand line and these options:\n",
    "\n",
    "- `storage`: a default storage location for the instance (e.g. `s3://my-bucket`, `gs://my-bucket`, `./my-data-dir`)\n",
    "- `name` (optional): a name for the instance (e.g., `my-assets`)\n",
    "- `db` (optional): a Postgres database connection URL, do not pass for SQLite\n",
    "- `modules` (optional): comma-separated string of registry modules"
   ]
  },
  {
   "cell_type": "markdown",
   "metadata": {},
   "source": [
    "If you are only interested in tracking artifacts and their transformations, init your local SQLite instance via:\n",
    "\n",
    "```\n",
    "lamin init --storage ./mydata\n",
    "```"
   ]
  },
  {
   "cell_type": "markdown",
   "metadata": {},
   "source": [
    "Mount the Bionty module:\n",
    "\n",
    "```\n",
    "lamin init --storage mydata --modules bionty\n",
    "```"
   ]
  },
  {
   "cell_type": "markdown",
   "metadata": {},
   "source": [
    "You can also pass an AWS S3 bucket."
   ]
  },
  {
   "cell_type": "markdown",
   "metadata": {},
   "source": [
    "```\n",
    "lamin init --storage s3://<bucket_name> --modules bionty\n",
    "```"
   ]
  },
  {
   "cell_type": "markdown",
   "metadata": {},
   "source": [
    "Instead of SQLite, you can pass a Postgres connection string."
   ]
  },
  {
   "cell_type": "markdown",
   "metadata": {},
   "source": [
    "```\n",
    "lamin init --storage gs://<bucket_name> --db postgresql://<user>:<pwd>@<hostname>:<port>/<dbname> --modules bionty\n",
    "```\n"
   ]
  },
  {
   "cell_type": "markdown",
   "metadata": {},
   "source": [
    "## Connecting to an instance"
   ]
  },
  {
   "cell_type": "markdown",
   "metadata": {},
   "source": [
    "Connect to your own instance:\n",
    "```\n",
    "lamin connect <instance_name>\n",
    "````"
   ]
  },
  {
   "cell_type": "markdown",
   "metadata": {},
   "source": [
    "Connect to somebody else's instance:\n",
    "```\n",
    "lamin connect <account_handle/instance_name>\n",
    "```"
   ]
  },
  {
   "cell_type": "markdown",
   "metadata": {},
   "source": [
    "## Access settings"
   ]
  },
  {
   "cell_type": "markdown",
   "metadata": {},
   "source": [
    "Now, let's look at a specific example:"
   ]
  },
  {
   "cell_type": "code",
   "execution_count": null,
   "metadata": {},
   "outputs": [],
   "source": [
    "!lamin init --storage mydata --modules bionty"
   ]
  },
  {
   "cell_type": "markdown",
   "metadata": {},
   "source": [
    "Print settings:"
   ]
  },
  {
   "cell_type": "code",
   "execution_count": null,
   "metadata": {},
   "outputs": [],
   "source": [
    "!lamin settings"
   ]
  },
  {
   "cell_type": "markdown",
   "metadata": {},
   "source": [
    "Settings persist in `~/.lamin/` and can also be accessed via {class}`lamindb.setup.settings`. \n",
    "\n",
    "The settings directory can also be configured using `LAMIN_SETTINGS_DIR` environment variable."
   ]
  },
  {
   "cell_type": "code",
   "execution_count": null,
   "metadata": {},
   "outputs": [],
   "source": [
    "import lamindb as ln"
   ]
  },
  {
   "cell_type": "code",
   "execution_count": null,
   "metadata": {},
   "outputs": [],
   "source": [
    "ln.setup.settings.user"
   ]
  },
  {
   "cell_type": "code",
   "execution_count": null,
   "metadata": {},
   "outputs": [],
   "source": [
    "ln.setup.settings.instance"
   ]
  },
  {
   "cell_type": "markdown",
   "metadata": {},
   "source": [
    "```{note}\n",
    "\n",
    "- The user who creates an instance is its owner. Ownership can be transferred in the hub.\n",
    "- Advanced users could also consider the Python setup API: {mod}`lamindb.setup`.\n",
    "\n",
    "```"
   ]
  },
  {
   "cell_type": "markdown",
   "metadata": {},
   "source": [
    "## Use paths with s3-compatible endpoints"
   ]
  },
  {
   "cell_type": "markdown",
   "metadata": {},
   "source": [
    "This is an experimental feature."
   ]
  },
  {
   "cell_type": "markdown",
   "metadata": {},
   "source": [
    "It is possible to init an instance with a path that uses an s3-compatible endpoint url. Such endpoints allow to access non-s3 buckets using the same API that is used for s3."
   ]
  },
  {
   "cell_type": "markdown",
   "metadata": {},
   "source": [
    "```\n",
    "lamin init --storage s3://<bucket_name>?endpoint_url=http://endpoint.com:port\n",
    "```"
   ]
  },
  {
   "cell_type": "markdown",
   "metadata": {},
   "source": [
    "This assumes that the endpoint url is `http://endpoint.com` with a port specified."
   ]
  },
  {
   "cell_type": "markdown",
   "metadata": {},
   "source": [
    "It is also possible to set a path with s3-compatible endpoint as a default storage for an existing instance for the current python session."
   ]
  },
  {
   "cell_type": "markdown",
   "metadata": {},
   "source": [
    "```python\n",
    "import lamindb as ln # connected an existing instance\n",
    "ln.settings.storage = \"s3://<bucket_name>?endpoint_url=http://endpoint.com:port\"\n",
    "# or using ln.UPath\n",
    "ln.settings.storage = ln.UPath(\"s3://<bucket_name>\", endpoint_url=\"http://endpoint.com:port\")\n",
    "```"
   ]
  },
  {
   "cell_type": "markdown",
   "metadata": {},
   "source": [
    "## Manage cache"
   ]
  },
  {
   "cell_type": "markdown",
   "metadata": {},
   "source": [
    "`lamindb` maintains a local cache for files and folders stored in the cloud (e.g., AWS S3, Google Cloud Storage, HTTP, Hugging Face, etc.).\n",
    "\n",
    "When an {class}`~lamindb.models.Artifact` object representing a file or folder in the cloud is accessed for the first time via {meth}`~lamindb.models.Artifact.cache` or .{meth}`~lamindb.models.Artifact.load`, it is downloaded to the cache. Subsequent accesses read from the cached copy, as long as the original file or folder has not changed."
   ]
  },
  {
   "cell_type": "markdown",
   "metadata": {},
   "source": [
    "Cache directory path can be accessed via {class}`lamindb.settings`."
   ]
  },
  {
   "cell_type": "code",
   "execution_count": null,
   "metadata": {},
   "outputs": [],
   "source": [
    "ln.settings.cache_dir"
   ]
  },
  {
   "cell_type": "markdown",
   "metadata": {},
   "source": [
    "or print the cache directory path with CLI"
   ]
  },
  {
   "cell_type": "code",
   "execution_count": null,
   "metadata": {},
   "outputs": [],
   "source": [
    "!lamin cache get"
   ]
  },
  {
   "cell_type": "markdown",
   "metadata": {},
   "source": [
    "It can be also configured via \n",
    "\n",
    "```\n",
    "lamin cache set some/path/to/cache\n",
    "```\n",
    "\n",
    "Cache directory can also be set using `LAMIN_CACHE_DIR` environment variable."
   ]
  },
  {
   "cell_type": "markdown",
   "metadata": {},
   "source": [
    "### Configuring a system-wide cache"
   ]
  },
  {
   "cell_type": "markdown",
   "metadata": {},
   "source": [
    "If you are using `lamindb` on a multi-user system such as a shared compute cluster, you can configure a shared default cache for all users to avoid duplicating cached data for each individual user.\n",
    "\n",
    "To set this up, first find the location of the `lamindb` system settings directory. It can be done via CLI"
   ]
  },
  {
   "cell_type": "markdown",
   "metadata": {},
   "source": [
    "```\n",
    "lamin info\n",
    "```"
   ]
  },
  {
   "cell_type": "markdown",
   "metadata": {},
   "source": [
    "In the `Local directories` section, locate the path shown in `system settings` - this is the directory you need.\n",
    "\n",
    "In this directory you need to create a text file `system.env` that contains a line with the path you need for the system cache folder (repalce `absolute/path/to/your/system/cache` with your path)"
   ]
  },
  {
   "cell_type": "markdown",
   "metadata": {},
   "source": [
    "```\n",
    "lamindb_cache_path=absolute/path/to/your/system/cache\n",
    "```"
   ]
  },
  {
   "cell_type": "markdown",
   "metadata": {},
   "source": [
    "This cache folder will be used by default for all users on the system unless they explicitly configure their own cache folder with CLI `lamin cache set`."
   ]
  },
  {
   "cell_type": "markdown",
   "metadata": {},
   "source": [
    "## Disconnect from an instance"
   ]
  },
  {
   "cell_type": "markdown",
   "metadata": {},
   "source": [
    "Connecting to an instance means loading an environment for managing your data.\n",
    "\n",
    "When connecting to a new instance, you automatically _disconnect_ from the previously connected instance.\n",
    "\n",
    "If you want to disconnect from the instance without connecting to a new instance, use `lamin disconnect`"
   ]
  },
  {
   "cell_type": "markdown",
   "metadata": {},
   "source": [
    "## Database schema & modules"
   ]
  },
  {
   "cell_type": "markdown",
   "metadata": {},
   "source": [
    "1. Any LaminDB instance can mount custom schema modules with any number of registries\n",
    "2. Each schema module is a Python package that defines registries using the {class}`~lamindb.models.SQLRecord` class\n",
    "3. Every registry corresponds to a SQL table in the underlying Postgres or SQLite database"
   ]
  },
  {
   "cell_type": "markdown",
   "metadata": {},
   "source": [
    "<img src=\"https://lamin-site-assets.s3.amazonaws.com/.lamindb/XoTQFCmmj2uU4d2x0001.png\" width=\"350px\" style=\"background: transparent\" align=\"right\">"
   ]
  },
  {
   "cell_type": "markdown",
   "metadata": {},
   "source": [
    "The core database schema is built into the `lamindb` API.\n",
    "\n",
    "Almost all of LaminDB's central classes, like {class}`~lamindb.Artifact`, {class}`~lamindb.Transform`, {class}`~lamindb.User`, etc. are registries. You can see their source code [here](https://github.com/laminlabs/lnschema-core/blob/main/lamindb/models.py)."
   ]
  },
  {
   "cell_type": "markdown",
   "metadata": {},
   "source": [
    "### Compatibility matrix"
   ]
  },
  {
   "cell_type": "markdown",
   "metadata": {},
   "source": [
    "Below is the compatibility matrix for the core `lamindb` schema. To upgrade the state of the SQL database (`DB`) from a lower version to your current Python package (`PP`) version, you call: `lamin migrate deploy`"
   ]
  },
  {
   "cell_type": "markdown",
   "metadata": {},
   "source": [
    "🟢 = full API works<br>\n",
    "🟡 = hard-delete of some records might error because an auxiliary table was removed, soft-delete & remaining API work<br>\n",
    "🔴 = errors on basic operations because a field was added to or removed from a registry (SQL table)\n",
    "\n",
    "-- | PP 1.13 | PP 1.12 | PP 1.11 | PP 1.10.2 | PP 1.10.0 | PP 1.9 | PP 1.8 | PP 1.7 | PP 1.6 | PP 1.5 | PP >=1.0\n",
    "--- | --- | --- | --- | --- | --- | --- | --- | --- | --- | --- | ---\n",
    "**DB 1.13** | 🟢 | 🟢 | 🟢 | 🟢 | 🟢 | 🟢 | 🟢 | 🟢 | 🟢 | 🟢 | 🟢 \n",
    "**DB 1.12** | 🟢 | 🟡 | 🟡 | 🟡 | 🟡 | 🟡 | 🟡 | 🟡 | 🟡 | 🟡 | 🟡 \n",
    "**DB 1.11** | 🔴 | 🟢 | 🟢 | 🟢 | 🟢 | 🟢 | 🟢 | 🟢 | 🟢 | 🟢 | 🟢\n",
    "**DB 1.10.2** | 🔴 | 🟢 | 🟢 | 🟢 | 🟢 | 🟢 | 🟢 | 🟢 | 🟢 | 🟢 | 🟢\n",
    "**DB 1.10.0** | 🔴 | 🟡 | 🟡 | 🟢 | 🟢 | 🟢 | 🟢 | 🟢 | 🟢 | 🟢 | 🟢\n",
    "**DB 1.9** | 🔴 | 🟡 | 🟡 | 🟢 | 🟢 | 🟢 | 🟢 | 🟢 | 🟢 | 🟢 | 🟢\n",
    "**DB 1.8** | 🔴 | 🟡 | 🟡 | 🟢 | 🟢 | 🟢 | 🟢 | 🟢 | 🟢 | 🟢 | 🟢\n",
    "**DB 1.7** | 🔴 | 🟡 | 🟡 | 🟢 | 🟢 | 🟢 | 🟢 | 🟢 | 🟢 | 🟢 | 🟢\n",
    "**DB 1.6** | 🔴 | 🟡 | 🟡 | 🟡 | 🟡 | 🟡 | 🟡 | 🟢 | 🟢 | 🟢 | 🟢\n",
    "**DB 1.5** | 🔴 | 🟡 | 🟡 | 🟡 | 🟡 | 🟡 | 🟡 | 🟡 | 🟢 | 🟢  | 🟢\n",
    "**DB >=1.0** | 🔴 | 🟡 | 🟡 | 🟡 | 🟡 | 🟡 | 🟡 | 🟡 | 🟢 | 🟢 | 🟢 \n",
    "**DB < 1.0** | 🔴 | 🔴 | 🔴 | 🔴 | 🔴 | 🔴 | 🔴 | 🔴 | 🔴 | 🔴 | 🔴 "
   ]
  },
  {
   "cell_type": "markdown",
   "metadata": {},
   "source": [
    "### Custom modules"
   ]
  },
  {
   "cell_type": "markdown",
   "metadata": {},
   "source": [
    "You can set up your own modules & registries or [reach out](https://lamin.ai/contact) for support within Lamin's Team or Enterprise plan.\n",
    "\n",
    "You'll see how simple it is if you look at this example: [wetlab/models.py](https://github.com/laminlabs/wetlab/blob/main/wetlab/models.py). You only need a single Python file to define registries via data models."
   ]
  },
  {
   "cell_type": "markdown",
   "metadata": {},
   "source": [
    "If you are an admin, you can use two commands to create and deploy migrations:\n",
    "\n",
    "- `lamin migrate create` (only needed when creating your own custom modules)\n",
    "- `lamin migrate deploy`"
   ]
  },
  {
   "cell_type": "markdown",
   "metadata": {},
   "source": [
    "### Create a migration\n",
    "\n",
    "You need to have the module package installed locally:\n",
    "```\n",
    "git clone https://github.com/my-org/lnmodules-custom\n",
    "cd lnmodules-custom\n",
    "pip install -e .\n",
    "```\n",
    "\n",
    "Edit the registries in your module.\n",
    "\n",
    "Then, call\n",
    "\n",
    "```\n",
    "lamin migrate create\n",
    "```\n",
    "\n",
    "to create the migration script.\n",
    "\n",
    "When you're happy, commit them to your GitHub repo, and ideally make a new release.\n",
    "\n",
    "### Deploy a migration\n",
    "\n",
    "To deploy the migration call `lamin migrate deploy`.\n",
    "\n",
    "```{note}\n",
    "\n",
    "The `lamin` migration commands are a wrapper around Django's migration manager.\n",
    "\n",
    "```"
   ]
  },
  {
   "cell_type": "markdown",
   "metadata": {},
   "source": [
    "## Delete an instance"
   ]
  },
  {
   "cell_type": "markdown",
   "metadata": {},
   "source": [
    "This works as follows. It won't delete your data, just the metadata managed by LaminDB:"
   ]
  },
  {
   "cell_type": "code",
   "execution_count": null,
   "metadata": {},
   "outputs": [],
   "source": [
    "!lamin delete --force mydata"
   ]
  },
  {
   "cell_type": "markdown",
   "metadata": {},
   "source": [
    "## FAQ\n",
    "\n",
    "### Where is the SQLite file of a LaminDB instance?\n",
    "\n",
    "The SQLite file is in the default storage location of the instance and called `lamin.db`.\n",
    "\n",
    "You can also see it as part of the database connection string:\n",
    "\n",
    "```python\n",
    "ln.setup.settings.instance.db\n",
    "#> sqlite:///path-to-sqlite\n",
    "```\n",
    "\n",
    "If the default storage is in the cloud, the SQLite file is cached in the local cache directory ({attr}`~lamindb.setup.core.StorageSettings.cache_dir`):\n",
    "\n",
    "```python\n",
    "ln.setup.settings.storage.cache_dir\n",
    "#> path-to-cache-dir\n",
    "```"
   ]
  }
 ],
 "metadata": {
  "kernelspec": {
   "display_name": "Python 3 (ipykernel)",
   "language": "python",
   "name": "python3"
  },
  "language_info": {
   "codemirror_mode": {
    "name": "ipython",
    "version": 3
   },
   "file_extension": ".py",
   "mimetype": "text/x-python",
   "name": "python",
   "nbconvert_exporter": "python",
   "pygments_lexer": "ipython3",
   "version": "3.10.16"
  },
  "vscode": {
   "interpreter": {
    "hash": "ae1fefc8646a06dd2e75004cd934adda7c5727b046986a772e3b44b0ffba9754"
   }
  }
 },
 "nbformat": 4,
 "nbformat_minor": 4
}
