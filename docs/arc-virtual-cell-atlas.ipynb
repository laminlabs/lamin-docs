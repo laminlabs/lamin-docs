{
 "cells": [
  {
   "cell_type": "markdown",
   "id": "c71502b7",
   "metadata": {},
   "source": [
    "[![hub](https://img.shields.io/badge/Source%20%26%20report%20-mediumseagreen)](https://lamin.ai/laminlabs/arc-virtual-cell-atlas/transform/l6GZa1J999W5)"
   ]
  },
  {
   "cell_type": "markdown",
   "id": "7f26a335-cf1c-4e69-be3b-0c26b154606a",
   "metadata": {},
   "source": [
    "# Arc Virtual Cell Atlas: scRNA-seq"
   ]
  },
  {
   "cell_type": "markdown",
   "id": "47b1fa7f",
   "metadata": {},
   "source": [
    "The [Arc Virtual Cell Atlas](https://github.com/ArcInstitute/arc-virtual-cell-atlas) hosts one of the biggest collections of scRNA-seq datasets.\n",
    "\n",
    "Lamin mirrors the dataset for simplified access here: https://lamin.ai/laminlabs/arc-virtual-cell-atlas\n",
    "\n",
    "If you use the data academically, please cite the original publications, [Youngblut _et al._ (2025)](https://arcinstitute.org/manuscripts/scBaseCamp) and [Zhang _et al._ (2025)](https://biorxiv.org/10.1101/2025.02.20.639398)."
   ]
  },
  {
   "cell_type": "markdown",
   "id": "5a021883",
   "metadata": {},
   "source": [
    "Connect to the public LaminDB instance that mirrors cellxgene:"
   ]
  },
  {
   "cell_type": "code",
   "execution_count": null,
   "id": "df1d93a7",
   "metadata": {
    "tags": [
     "hide-output"
    ]
   },
   "outputs": [],
   "source": [
    "# pip install 'lamindb[jupyter,bionty,wetlab,gcp]'\n",
    "!lamin connect laminlabs/arc-virtual-cell-atlas"
   ]
  },
  {
   "cell_type": "code",
   "execution_count": null,
   "id": "d74e133a",
   "metadata": {
    "tags": [
     "hide-output"
    ]
   },
   "outputs": [],
   "source": [
    "import lamindb as ln\n",
    "import bionty as bt\n",
    "import wetlab as wl"
   ]
  },
  {
   "cell_type": "markdown",
   "id": "ff6ecae2",
   "metadata": {},
   "source": [
    "## Metadata"
   ]
  },
  {
   "cell_type": "markdown",
   "id": "451190a5",
   "metadata": {},
   "source": [
    "21 organisms."
   ]
  },
  {
   "cell_type": "code",
   "execution_count": null,
   "id": "679a2614",
   "metadata": {},
   "outputs": [],
   "source": [
    "bt.Organism.df()"
   ]
  },
  {
   "cell_type": "markdown",
   "id": "ce80380f",
   "metadata": {},
   "source": [
    "50 cell lines."
   ]
  },
  {
   "cell_type": "code",
   "execution_count": null,
   "id": "98cc5a9a",
   "metadata": {
    "tags": [
     "hide-output"
    ]
   },
   "outputs": [],
   "source": [
    "bt.CellLine.df()"
   ]
  },
  {
   "cell_type": "markdown",
   "id": "be6ef441",
   "metadata": {},
   "source": [
    "100 compounds."
   ]
  },
  {
   "cell_type": "code",
   "execution_count": null,
   "id": "4ba9c2c4",
   "metadata": {
    "tags": [
     "hide-output"
    ]
   },
   "outputs": [],
   "source": [
    "wl.Compound.df()"
   ]
  },
  {
   "cell_type": "markdown",
   "id": "e81be489",
   "metadata": {},
   "source": [
    "## The Tahoe collection"
   ]
  },
  {
   "cell_type": "markdown",
   "id": "78cd7e54",
   "metadata": {},
   "source": [
    "Every individual dataset in the atlas is an `.h5ad` file that is registered as an artifact in LaminDB.\n",
    "\n",
    "Let us first query for the `Tahoe` collection."
   ]
  },
  {
   "cell_type": "code",
   "execution_count": null,
   "id": "ea561881",
   "metadata": {
    "tags": [
     "hide-output"
    ]
   },
   "outputs": [],
   "source": [
    "collection = ln.Collection.get(key=\"tahoe100\")\n",
    "collection.artifacts.df()"
   ]
  },
  {
   "cell_type": "markdown",
   "id": "559edbaa",
   "metadata": {},
   "source": [
    "Each of the datasets were validated with the same schema:"
   ]
  },
  {
   "cell_type": "code",
   "execution_count": null,
   "id": "e2437b4e",
   "metadata": {},
   "outputs": [],
   "source": [
    "schema = ln.Schema.get(name=\"tahoe100_anndata_schema\")"
   ]
  },
  {
   "cell_type": "code",
   "execution_count": null,
   "id": "8821f28c",
   "metadata": {
    "tags": [
     "hide-output"
    ]
   },
   "outputs": [],
   "source": [
    "ln.Artifact.filter(schema=schema).df()"
   ]
  },
  {
   "cell_type": "markdown",
   "id": "13702786",
   "metadata": {},
   "source": [
    "Here is how the features in the dataset look like:"
   ]
  },
  {
   "cell_type": "code",
   "execution_count": null,
   "id": "14ba77a1",
   "metadata": {},
   "outputs": [],
   "source": [
    "artifact = ln.Artifact.filter(schema=schema).first()  # the first in the collection\n",
    "artifact.describe()"
   ]
  },
  {
   "cell_type": "markdown",
   "id": "1b09bad5",
   "metadata": {},
   "source": [
    "The genes are indexed with a \"stable ID\", a unique mix of Ensembl gene ID and gene symbol."
   ]
  },
  {
   "cell_type": "markdown",
   "id": "b27fc6bf",
   "metadata": {},
   "source": [
    "Every `AnnData` object measures a broad range of perturbations, biosamples and cell lines. The plates are approximate replicates for each other."
   ]
  },
  {
   "cell_type": "markdown",
   "id": "e234ec93",
   "metadata": {},
   "source": [
    "You can download an `.h5ad` into your local cache like so:\n",
    "\n",
    "```python\n",
    "artifact.cache()\n",
    "```"
   ]
  },
  {
   "cell_type": "markdown",
   "id": "992b4a9b",
   "metadata": {},
   "source": [
    "Note that unlike what the suffix suggests, the `.h5ad` is presently _not_ compressed."
   ]
  }
 ],
 "metadata": {
  "kernelspec": {
   "display_name": "py312",
   "language": "python",
   "name": "python3"
  },
  "language_info": {
   "codemirror_mode": {
    "name": "ipython",
    "version": 3
   },
   "file_extension": ".py",
   "mimetype": "text/x-python",
   "name": "python",
   "nbconvert_exporter": "python",
   "pygments_lexer": "ipython3",
   "version": "3.12.8"
  },
  "nbproject": {
   "id": "5FUyJ6RkVk0D",
   "parent": null,
   "pypackage": null,
   "time_init": "2023-09-05T14:45:21.919899+00:00",
   "user_handle": "sunnyosun",
   "user_id": "kmvZDIX9",
   "user_name": "Sunny Sun",
   "version": "0"
  }
 },
 "nbformat": 4,
 "nbformat_minor": 5
}
