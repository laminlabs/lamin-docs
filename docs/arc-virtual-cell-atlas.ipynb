{
 "cells": [
  {
   "cell_type": "markdown",
   "id": "c71502b7",
   "metadata": {},
   "source": [
    "[![hub](https://img.shields.io/badge/Source%20%26%20report%20-mediumseagreen)](https://lamin.ai/laminlabs/arc-virtual-cell-atlas/transform/l6GZa1J999W5)"
   ]
  },
  {
   "cell_type": "markdown",
   "id": "7f26a335-cf1c-4e69-be3b-0c26b154606a",
   "metadata": {},
   "source": [
    "# Arc Virtual Cell Atlas: scRNA-seq"
   ]
  },
  {
   "cell_type": "markdown",
   "id": "47b1fa7f",
   "metadata": {},
   "source": [
    "The [Arc Virtual Cell Atlas](https://github.com/ArcInstitute/arc-virtual-cell-atlas) hosts one of the biggest collections of scRNA-seq datasets.\n",
    "\n",
    "Lamin mirrors the dataset for simplified access here: [laminlabs/arc-virtual-cell-atlas](https://lamin.ai/laminlabs/arc-virtual-cell-atlas).\n",
    "\n",
    "If you use the data academically, please cite the original publications, [Youngblut _et al._ (2025)](https://arcinstitute.org/manuscripts/scBaseCount) and [Zhang _et al._ (2025)](https://biorxiv.org/10.1101/2025.02.20.639398)."
   ]
  },
  {
   "cell_type": "markdown",
   "id": "5a021883",
   "metadata": {},
   "source": [
    "Connect to the source instance."
   ]
  },
  {
   "cell_type": "code",
   "execution_count": null,
   "id": "df1d93a7",
   "metadata": {
    "tags": [
     "hide-output"
    ]
   },
   "outputs": [],
   "source": [
    "# pip install 'lamindb[jupyter,bionty,wetlab,gcp]'\n",
    "!lamin connect laminlabs/arc-virtual-cell-atlas"
   ]
  },
  {
   "cell_type": "markdown",
   "id": "a70e923f",
   "metadata": {},
   "source": [
    "```{note}\n",
    "\n",
    "If you want to transfer artifacts or metadata into your own instance, use `.using(\"laminlabs/arc-virtual-cell-atlas\")` when accessing registries and then `.save()` ({doc}`/transfer`).\n",
    "\n",
    "```"
   ]
  },
  {
   "cell_type": "code",
   "execution_count": null,
   "id": "d74e133a",
   "metadata": {
    "tags": [
     "hide-output"
    ]
   },
   "outputs": [],
   "source": [
    "import lamindb as ln\n",
    "import bionty as bt\n",
    "import wetlab as wl\n",
    "import pyarrow.compute as pc\n",
    "import anndata as ad"
   ]
  },
  {
   "cell_type": "markdown",
   "id": "e5952d9c",
   "metadata": {},
   "source": [
    "## Tahoe-100M"
   ]
  },
  {
   "cell_type": "code",
   "execution_count": null,
   "id": "4388d063",
   "metadata": {},
   "outputs": [],
   "source": [
    "project_tahoe = ln.Project.get(name=\"Tahoe-100M\")\n",
    "project_tahoe"
   ]
  },
  {
   "cell_type": "code",
   "execution_count": null,
   "id": "7308545f",
   "metadata": {},
   "outputs": [],
   "source": [
    "# one collection in this project\n",
    "project_tahoe.collections.to_dataframe()"
   ]
  },
  {
   "cell_type": "markdown",
   "id": "d6e359f5",
   "metadata": {},
   "source": [
    "Every individual dataset in the atlas is an `.h5ad` file that is registered as an artifact in LaminDB.\n",
    "\n",
    "Artifact level metadata are registered and can be explored as follows:"
   ]
  },
  {
   "cell_type": "code",
   "execution_count": null,
   "id": "21f30095",
   "metadata": {
    "tags": [
     "hide-output"
    ]
   },
   "outputs": [],
   "source": [
    "# get the collection: https://lamin.ai/laminlabs/arc-virtual-cell-atlas/collection/BpavRL4ntRTzWEE5\n",
    "collection_tahoe = ln.Collection.get(key=\"tahoe100\")\n",
    "# 14 artifacts in this collection, each correspond to a plate\n",
    "artifacts_tahoe = collection_tahoe.artifacts.distinct()\n",
    "artifacts_tahoe.to_dataframe()"
   ]
  },
  {
   "cell_type": "markdown",
   "id": "d8cc0065",
   "metadata": {},
   "source": [
    "50 cell lines."
   ]
  },
  {
   "cell_type": "code",
   "execution_count": null,
   "id": "f3109e4b",
   "metadata": {},
   "outputs": [],
   "source": [
    "artifacts_tahoe.list(\"cell_lines__name\")[:5]"
   ]
  },
  {
   "cell_type": "markdown",
   "id": "5d69e03a",
   "metadata": {},
   "source": [
    "380 compounds."
   ]
  },
  {
   "cell_type": "code",
   "execution_count": null,
   "id": "54dff1ee",
   "metadata": {},
   "outputs": [],
   "source": [
    "artifacts_tahoe.list(\"compounds__name\")[:5]"
   ]
  },
  {
   "cell_type": "markdown",
   "id": "e3fcba19",
   "metadata": {},
   "source": [
    "1,138 perturbations."
   ]
  },
  {
   "cell_type": "code",
   "execution_count": null,
   "id": "a220049e",
   "metadata": {},
   "outputs": [],
   "source": [
    "artifacts_tahoe.list(\"compound_perturbations__name\")[:5]"
   ]
  },
  {
   "cell_type": "code",
   "execution_count": null,
   "id": "9380bac7",
   "metadata": {
    "tags": [
     "hide-output"
    ]
   },
   "outputs": [],
   "source": [
    "# check the curated metadata of the first artifact\n",
    "artifact1 = artifacts_tahoe[0]\n",
    "artifact1.describe()"
   ]
  },
  {
   "cell_type": "markdown",
   "id": "a0b80d80",
   "metadata": {},
   "source": [
    "16 obs metadata features."
   ]
  },
  {
   "cell_type": "code",
   "execution_count": null,
   "id": "15f6b31c",
   "metadata": {
    "tags": [
     "hide-output"
    ]
   },
   "outputs": [],
   "source": [
    "artifact1.features[\"obs\"].to_dataframe()"
   ]
  },
  {
   "cell_type": "markdown",
   "id": "cafde2bd",
   "metadata": {},
   "source": [
    "### Query artifacts of interest based on metadata\n",
    "\n",
    "Since all metadata are registered in the sql database, we can explore the datasets without accessing them.\n",
    "\n",
    "Let's find which datasets contain A549 cells perturbed with Piroxicam."
   ]
  },
  {
   "cell_type": "code",
   "execution_count": null,
   "id": "7a982cc6",
   "metadata": {},
   "outputs": [],
   "source": [
    "# lookup objects give you pythonic access to the values\n",
    "cell_lines = bt.CellLine.lookup(\"ontology_id\")\n",
    "drugs = wl.Compound.lookup()\n",
    "\n",
    "artifacts_a549_piroxicam = artifacts_tahoe.filter(\n",
    "    cell_lines=cell_lines.cvcl_0023, compounds=drugs.piroxicam\n",
    ")\n",
    "artifacts_a549_piroxicam.to_dataframe()"
   ]
  },
  {
   "cell_type": "markdown",
   "id": "e234ec93",
   "metadata": {},
   "source": [
    "You can download an `.h5ad` into your local cache:\n",
    "\n",
    "```python\n",
    "artifact1.cache()\n",
    "```\n",
    "\n",
    "Or stream it:\n",
    "```python\n",
    "artifact1.open()\n",
    "```\n"
   ]
  },
  {
   "cell_type": "markdown",
   "id": "d1196078",
   "metadata": {},
   "source": [
    "### Open the obs metadata parquet file as a PyArrow Dataset\n",
    "\n",
    "Open the obs metadata file (2.29G) with `PyArrow.Dataset`."
   ]
  },
  {
   "cell_type": "code",
   "execution_count": null,
   "id": "c42e1579",
   "metadata": {},
   "outputs": [],
   "source": [
    "obs_metadata = ln.Artifact.filter(\n",
    "    key__endswith=\"obs_metadata.parquet\", projects=project_tahoe\n",
    ").one()\n",
    "obs_metadata"
   ]
  },
  {
   "cell_type": "code",
   "execution_count": null,
   "id": "4ef51226",
   "metadata": {
    "tags": [
     "hide-output"
    ]
   },
   "outputs": [],
   "source": [
    "obs_metadata_ds = obs_metadata.open()\n",
    "obs_metadata_ds.schema"
   ]
  },
  {
   "cell_type": "markdown",
   "id": "4f6e6bae",
   "metadata": {},
   "source": [
    "Which A549 cells are perturbed with Piroxicam."
   ]
  },
  {
   "cell_type": "code",
   "execution_count": null,
   "id": "914b928f",
   "metadata": {},
   "outputs": [],
   "source": [
    "filter_expr = (pc.field(\"cell_name\") == cell_lines.cvcl_0023.name) & (\n",
    "    pc.field(\"drug\") == drugs.piroxicam.name\n",
    ")\n",
    "obs_metadata_df = obs_metadata_ds.scanner(filter=filter_expr).to_table().to_pandas()\n",
    "obs_metadata_df.value_counts(\"plate\")"
   ]
  },
  {
   "cell_type": "code",
   "execution_count": null,
   "id": "e8e6dba8",
   "metadata": {},
   "outputs": [],
   "source": [
    "obs_metadata_df.head()"
   ]
  },
  {
   "cell_type": "markdown",
   "id": "7a545bce",
   "metadata": {},
   "source": [
    "Retrieve the corresponding cells from h5ad files.\n",
    "\n",
    "```python\n",
    "plate_cells = df.groupby(\"plate\")[\"BARCODE_SUB_LIB_ID\"].apply(list)\n",
    "\n",
    "adatas = []\n",
    "for artifact in artifacts_a549_piroxicam:\n",
    "    plate = artifact.features.get_values()[\"plate\"]\n",
    "    idxs = plate_cells.get(plate)\n",
    "    print(f\"Loading {len(idxs)} cells from plate {plate}\")\n",
    "    with artifact.open() as store:\n",
    "        adata = store[idxs].to_memory() # can also subst genes here\n",
    "        adatas.append(adata)\n",
    "```"
   ]
  },
  {
   "cell_type": "markdown",
   "id": "8721e3f3",
   "metadata": {},
   "source": [
    "## scBaseCount"
   ]
  },
  {
   "cell_type": "code",
   "execution_count": null,
   "id": "c3ec4d53",
   "metadata": {},
   "outputs": [],
   "source": [
    "project_scbasecount = ln.Project.get(name=\"scBaseCount\")\n",
    "project_scbasecount"
   ]
  },
  {
   "cell_type": "markdown",
   "id": "3331ab8f",
   "metadata": {},
   "source": [
    "This project has 105 collections (21 organisms x 5 count features):"
   ]
  },
  {
   "cell_type": "code",
   "execution_count": null,
   "id": "e9e3ff08",
   "metadata": {
    "tags": [
     "hide-output"
    ]
   },
   "outputs": [],
   "source": [
    "project_scbasecount.collections.to_dataframe()"
   ]
  },
  {
   "cell_type": "markdown",
   "id": "8972c452",
   "metadata": {},
   "source": [
    "### Query artifacts of interest based on metadata\n",
    "\n",
    "Often you might not want to access all the h5ads in a collection, but rather filter them by metadata:"
   ]
  },
  {
   "cell_type": "code",
   "execution_count": null,
   "id": "3c652f9d",
   "metadata": {},
   "outputs": [],
   "source": [
    "organisms = bt.Organism.lookup()\n",
    "tissues = bt.Tissue.lookup()\n",
    "efos = bt.ExperimentalFactor.lookup()\n",
    "feature_counts = ln.ULabel.filter(type__name=\"STARsolo count features\").lookup()"
   ]
  },
  {
   "cell_type": "code",
   "execution_count": null,
   "id": "c590d5a2",
   "metadata": {
    "tags": [
     "hide-output"
    ]
   },
   "outputs": [],
   "source": [
    "h5ads_brain = ln.Artifact.filter(\n",
    "    suffix=\".h5ad\",\n",
    "    projects=project_scbasecount,\n",
    "    organisms=organisms.human,\n",
    "    ulabels=feature_counts.genefull_ex50pas,\n",
    "    tissues=tissues.brain,\n",
    "    experimental_factors=efos.single_cell,\n",
    "    experiments__name__contains=\"CRISPRi\",  # `perturbation` column is registered in `wetlab.Experiment`\n",
    ").distinct()\n",
    "\n",
    "h5ads_brain.to_dataframe()"
   ]
  },
  {
   "cell_type": "markdown",
   "id": "08d7ec8e",
   "metadata": {},
   "source": [
    "### Load the h5ad files with obs metadata"
   ]
  },
  {
   "cell_type": "markdown",
   "id": "676f60d2",
   "metadata": {},
   "source": [
    "Load the h5ads as a single AnnData:"
   ]
  },
  {
   "cell_type": "code",
   "execution_count": null,
   "id": "1c02a04d",
   "metadata": {
    "tags": [
     "hide-output"
    ]
   },
   "outputs": [],
   "source": [
    "adatas = []\n",
    "for artifact in h5ads_brain[:5]:  # only load the first 5 artifacts to save CI time\n",
    "    adatas.append(artifact.load())\n",
    "\n",
    "# the obs metadatas are present in the parquet files\n",
    "adata_concat = ad.concat(adatas)\n",
    "adata_concat"
   ]
  },
  {
   "cell_type": "markdown",
   "id": "5c51eab8",
   "metadata": {},
   "source": [
    "Open the sample metadata:"
   ]
  },
  {
   "cell_type": "code",
   "execution_count": null,
   "id": "21cbe977",
   "metadata": {},
   "outputs": [],
   "source": [
    "sample_meta = ln.Artifact.filter(\n",
    "    key__endswith=\"sample_metadata.parquet\",\n",
    "    projects=project_scbasecount,\n",
    "    organisms=organisms.human,\n",
    "    ulabels=feature_counts.genefull_ex50pas,\n",
    ").one()\n",
    "\n",
    "sample_meta"
   ]
  },
  {
   "cell_type": "code",
   "execution_count": null,
   "id": "a546c5d9",
   "metadata": {
    "tags": [
     "hide-output"
    ]
   },
   "outputs": [],
   "source": [
    "sample_meta_dataset = sample_meta.open()\n",
    "sample_meta_dataset.schema"
   ]
  },
  {
   "cell_type": "markdown",
   "id": "3eb4fe9d",
   "metadata": {},
   "source": [
    "Fetch corresponding sample metadata:"
   ]
  },
  {
   "cell_type": "code",
   "execution_count": null,
   "id": "8882325a",
   "metadata": {},
   "outputs": [],
   "source": [
    "filter_expr = pc.field(\"srx_accession\").isin(\n",
    "    adata_concat.obs[\"SRX_accession\"].astype(str)\n",
    ")\n",
    "df = sample_meta_dataset.scanner(filter=filter_expr).to_table().to_pandas()"
   ]
  },
  {
   "cell_type": "markdown",
   "id": "6a653e9f",
   "metadata": {},
   "source": [
    "Add the sample metadata to the AnnData:"
   ]
  },
  {
   "cell_type": "code",
   "execution_count": null,
   "id": "c7236c4b",
   "metadata": {},
   "outputs": [],
   "source": [
    "adata_concat.obs = adata_concat.obs.merge(\n",
    "    df, left_on=\"SRX_accession\", right_on=\"srx_accession\"\n",
    ")\n",
    "adata_concat"
   ]
  },
  {
   "cell_type": "code",
   "execution_count": null,
   "id": "715b31f9",
   "metadata": {
    "tags": [
     "hide-output"
    ]
   },
   "outputs": [],
   "source": [
    "adata_concat.obs.head()"
   ]
  }
 ],
 "metadata": {
  "kernelspec": {
   "display_name": "py310",
   "language": "python",
   "name": "python3"
  },
  "language_info": {
   "codemirror_mode": {
    "name": "ipython",
    "version": 3
   },
   "file_extension": ".py",
   "mimetype": "text/x-python",
   "name": "python",
   "nbconvert_exporter": "python",
   "pygments_lexer": "ipython3",
   "version": "3.10.13"
  },
  "nbproject": {
   "id": "5FUyJ6RkVk0D",
   "parent": null,
   "pypackage": null,
   "time_init": "2023-09-05T14:45:21.919899+00:00",
   "user_handle": "sunnyosun",
   "user_id": "kmvZDIX9",
   "user_name": "Sunny Sun",
   "version": "0"
  }
 },
 "nbformat": 4,
 "nbformat_minor": 5
}
