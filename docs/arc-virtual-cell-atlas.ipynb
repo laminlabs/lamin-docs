{
 "cells": [
  {
   "cell_type": "markdown",
   "id": "c71502b7",
   "metadata": {},
   "source": [
    "[![hub](https://img.shields.io/badge/Source%20%26%20report%20-mediumseagreen)](https://lamin.ai/laminlabs/arc-virtual-cell-atlas/transform/l6GZa1J999W5)"
   ]
  },
  {
   "cell_type": "markdown",
   "id": "7f26a335-cf1c-4e69-be3b-0c26b154606a",
   "metadata": {},
   "source": [
    "# Arc Virtual Cell Atlas: scRNA-seq"
   ]
  },
  {
   "cell_type": "markdown",
   "id": "47b1fa7f",
   "metadata": {},
   "source": [
    "The [Arc Virtual Cell Atlas](https://github.com/ArcInstitute/arc-virtual-cell-atlas) hosts one of the biggest collections of scRNA-seq datasets.\n",
    "\n",
    "Lamin mirrors the dataset for simplified access here: [laminlabs/arc-virtual-cell-atlas](https://lamin.ai/laminlabs/arc-virtual-cell-atlas).\n",
    "\n",
    "If you use the data academically, please cite the original publications, [Youngblut _et al._ (2025)](https://arcinstitute.org/manuscripts/scBaseCamp) and [Zhang _et al._ (2025)](https://biorxiv.org/10.1101/2025.02.20.639398)."
   ]
  },
  {
   "cell_type": "markdown",
   "id": "5a021883",
   "metadata": {},
   "source": [
    "Connect to the source instance."
   ]
  },
  {
   "cell_type": "code",
   "execution_count": null,
   "id": "df1d93a7",
   "metadata": {
    "tags": [
     "hide-output"
    ]
   },
   "outputs": [],
   "source": [
    "# pip install 'lamindb[jupyter,bionty,wetlab,gcp]'\n",
    "!lamin connect laminlabs/arc-virtual-cell-atlas"
   ]
  },
  {
   "cell_type": "markdown",
   "id": "a70e923f",
   "metadata": {},
   "source": [
    "```{note}\n",
    "\n",
    "If you want to transfer artifacts or metadata into your own instance, use `.using(\"laminlabs/arc-virtual-cell-atlas\")` when accessing registries and then `.save()` ({doc}`/transfer`).\n",
    "\n",
    "```"
   ]
  },
  {
   "cell_type": "code",
   "execution_count": null,
   "id": "d74e133a",
   "metadata": {
    "tags": [
     "hide-output"
    ]
   },
   "outputs": [],
   "source": [
    "import lamindb as ln\n",
    "import bionty as bt\n",
    "import wetlab as wl\n",
    "import pyarrow.compute as pc"
   ]
  },
  {
   "cell_type": "markdown",
   "id": "8fd6cfe8",
   "metadata": {},
   "source": [
    "## Metadata"
   ]
  },
  {
   "cell_type": "markdown",
   "id": "4f3ad78d",
   "metadata": {},
   "source": [
    "50 cell lines."
   ]
  },
  {
   "cell_type": "code",
   "execution_count": null,
   "id": "a4e32e84",
   "metadata": {
    "tags": [
     "hide-output"
    ]
   },
   "outputs": [],
   "source": [
    "bt.CellLine.df()"
   ]
  },
  {
   "cell_type": "markdown",
   "id": "0f574792",
   "metadata": {},
   "source": [
    "380 compounds."
   ]
  },
  {
   "cell_type": "code",
   "execution_count": null,
   "id": "1c55e20f",
   "metadata": {
    "tags": [
     "hide-output"
    ]
   },
   "outputs": [],
   "source": [
    "wl.Compound.df(limit=None)"
   ]
  },
  {
   "cell_type": "markdown",
   "id": "fd1f0a7c",
   "metadata": {},
   "source": [
    "1,138 perturbations."
   ]
  },
  {
   "cell_type": "code",
   "execution_count": null,
   "id": "b97fdb26",
   "metadata": {
    "tags": [
     "hide-output"
    ]
   },
   "outputs": [],
   "source": [
    "wl.CompoundPerturbation.df(limit=None)"
   ]
  },
  {
   "cell_type": "markdown",
   "id": "d2c0ad85",
   "metadata": {},
   "source": [
    "17 metadata features."
   ]
  },
  {
   "cell_type": "code",
   "execution_count": null,
   "id": "1976765f",
   "metadata": {
    "tags": [
     "hide-output"
    ]
   },
   "outputs": [],
   "source": [
    "ln.Feature.df()"
   ]
  },
  {
   "cell_type": "markdown",
   "id": "e81be489",
   "metadata": {},
   "source": [
    "## The Tahoe-100M collection"
   ]
  },
  {
   "cell_type": "markdown",
   "id": "78cd7e54",
   "metadata": {},
   "source": [
    "Every individual dataset in the atlas is an `.h5ad` file that is registered as an artifact in LaminDB.\n",
    "\n",
    "Let us first query for the `Tahoe-100M` collection."
   ]
  },
  {
   "cell_type": "code",
   "execution_count": null,
   "id": "806e4592",
   "metadata": {
    "tags": [
     "hide-output"
    ]
   },
   "outputs": [],
   "source": [
    "# get the collection: https://lamin.ai/laminlabs/arc-virtual-cell-atlas/collection/BpavRL4ntRTzWEE5\n",
    "collection = ln.Collection.get(key=\"tahoe100\")\n",
    "# 14 artifacts in this collection, each correspond to a plate\n",
    "collection.artifacts.df()"
   ]
  },
  {
   "cell_type": "code",
   "execution_count": null,
   "id": "9d66a170",
   "metadata": {
    "tags": [
     "hide-output"
    ]
   },
   "outputs": [],
   "source": [
    "# check the curated metadata of the first artifact\n",
    "artifact1 = collection.artifacts.all()[0]\n",
    "artifact1.describe()"
   ]
  },
  {
   "cell_type": "markdown",
   "id": "cafde2bd",
   "metadata": {},
   "source": [
    "## Query artifacts of interest based on metadata\n",
    "\n",
    "Let's find which datasets contain A549 cells perturbed with Piroxicam."
   ]
  },
  {
   "cell_type": "code",
   "execution_count": null,
   "id": "7a982cc6",
   "metadata": {},
   "outputs": [],
   "source": [
    "cell_lines = bt.CellLine.lookup()\n",
    "drugs = wl.Compound.lookup()\n",
    "\n",
    "artifacts_a549_piroxicam = collection.artifacts.filter(\n",
    "    cell_lines=cell_lines.a549, compounds=drugs.piroxicam\n",
    ").all()\n",
    "artifacts_a549_piroxicam.df()"
   ]
  },
  {
   "cell_type": "markdown",
   "id": "e234ec93",
   "metadata": {},
   "source": [
    "You can download an `.h5ad` into your local cache:\n",
    "\n",
    "```python\n",
    "artifact1.cache()\n",
    "```\n",
    "\n",
    "Or stream it:\n",
    "```python\n",
    "artifact1.open()\n",
    "```\n"
   ]
  },
  {
   "cell_type": "markdown",
   "id": "d1196078",
   "metadata": {},
   "source": [
    "## Open the obs metadata parquet file as a PyArrow Dataset\n",
    "\n",
    "Open the obs metadata file (2.29G) with `PyArrow.Dataset`."
   ]
  },
  {
   "cell_type": "code",
   "execution_count": null,
   "id": "c42e1579",
   "metadata": {},
   "outputs": [],
   "source": [
    "ulabels = ln.ULabel.lookup()\n",
    "parquet_artifact = ln.Artifact.filter(\n",
    "    key__contains=\"obs_metadata.parquet\", ulabels=ulabels.tahoe_100\n",
    ").one()\n",
    "parquet_artifact"
   ]
  },
  {
   "cell_type": "code",
   "execution_count": null,
   "id": "4ef51226",
   "metadata": {
    "tags": [
     "hide-output"
    ]
   },
   "outputs": [],
   "source": [
    "dataset = parquet_artifact.open()\n",
    "dataset.schema"
   ]
  },
  {
   "cell_type": "markdown",
   "id": "4f6e6bae",
   "metadata": {},
   "source": [
    "Which A549 cells are perturbed with Piroxicam."
   ]
  },
  {
   "cell_type": "code",
   "execution_count": null,
   "id": "914b928f",
   "metadata": {},
   "outputs": [],
   "source": [
    "filter_expr = (pc.field(\"cell_name\") == cell_lines.a549.name) & (\n",
    "    pc.field(\"drug\") == drugs.piroxicam.name\n",
    ")\n",
    "df = dataset.scanner(filter=filter_expr).to_table().to_pandas()\n",
    "df.value_counts(\"plate\")"
   ]
  },
  {
   "cell_type": "code",
   "execution_count": null,
   "id": "e8e6dba8",
   "metadata": {},
   "outputs": [],
   "source": [
    "df.head()"
   ]
  },
  {
   "cell_type": "markdown",
   "id": "7a545bce",
   "metadata": {},
   "source": [
    "Retrieve the corresponding cells from h5ad files.\n",
    "\n",
    "```python\n",
    "plate_cells = df.groupby(\"plate\")[\"BARCODE_SUB_LIB_ID\"].apply(list)\n",
    "\n",
    "adatas = []\n",
    "for artifact in artifacts_a549_piroxicam:\n",
    "    plate = artifact.features.get_values()[\"plate\"]\n",
    "    idxs = plate_cells.get(plate)\n",
    "    print(f\"Loading {len(idxs)} cells from plate {plate}\")\n",
    "    with artifact.open() as store:\n",
    "        adata = store[idxs].to_memory()\n",
    "        adatas.append(adata)\n",
    "```"
   ]
  },
  {
   "cell_type": "markdown",
   "id": "8721e3f3",
   "metadata": {},
   "source": [
    "# TBD"
   ]
  }
 ],
 "metadata": {
  "kernelspec": {
   "display_name": "py310",
   "language": "python",
   "name": "python3"
  },
  "language_info": {
   "codemirror_mode": {
    "name": "ipython",
    "version": 3
   },
   "file_extension": ".py",
   "mimetype": "text/x-python",
   "name": "python",
   "nbconvert_exporter": "python",
   "pygments_lexer": "ipython3",
   "version": "3.10.13"
  },
  "nbproject": {
   "id": "5FUyJ6RkVk0D",
   "parent": null,
   "pypackage": null,
   "time_init": "2023-09-05T14:45:21.919899+00:00",
   "user_handle": "sunnyosun",
   "user_id": "kmvZDIX9",
   "user_name": "Sunny Sun",
   "version": "0"
  }
 },
 "nbformat": 4,
 "nbformat_minor": 5
}
